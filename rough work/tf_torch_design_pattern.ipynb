{
 "cells": [
  {
   "cell_type": "markdown",
   "metadata": {},
   "source": [
    "## TF Implementation"
   ]
  },
  {
   "cell_type": "markdown",
   "metadata": {},
   "source": [
    "In tf, resnet 50, 101, 152 models of original architecture(ResNetV1) are available. \\\n",
    "`Software Style(functions only)` <br>\n",
    "building block function: <span style=\"color:green\">residual_block_v1</span> \\\n",
    "group of building blocks: <span style=\"color:green\">stack_residual_blocks_v1</span> \\\n",
    "Main function: **ResNet** \\\n",
    "functions that call main functions with passing argument of function that stacks groups of blocks according to  configurations : <span style=\"color:green\">ResNet50, ResNet101, ResNet 152</span> \\\n",
    "Usage order: ResNet50 -> stack_residual_blocks_v1 -> residual_block_v1 \\\n",
    "&emsp;&emsp;&emsp;&emsp;&emsp;&emsp;\n",
    "ResNet50 -> ResNet\n",
    "\n"
   ]
  },
  {
   "cell_type": "markdown",
   "metadata": {},
   "source": [
    "In tf, ResNetV2 50, 101, 152 models are available. \\\n",
    "`Software Style(functions only)` <br>\n",
    "building block function: <span style=\"color:green\">residual_block_v2</span> \\\n",
    "group of building blocks: <span style=\"color:green\">stack_residual_blocks_v2</span> \\\n",
    "Main function: **ResNet** \\\n",
    "functions that call main functions with passing argument of function that stacks groups of blocks according to  configurations : <span style=\"color:green\">ResNet50V2, ResNet101V2, ResNet 152V2(these in separate file in tf repo)</span> \\\n",
    "Usage order: ResNet50V2 -> stack_residual_blocks_v2 -> residual_block_v2 \\\n",
    "&emsp;&emsp;&emsp;&emsp;&emsp;&emsp;\n",
    "ResNet50V2 -> ResNet\n",
    "\n"
   ]
  },
  {
   "cell_type": "markdown",
   "metadata": {},
   "source": [
    "**`My Simple Implementation(functions only)`** <br>\n",
    "ResNet50 -> residual_block_v1 \\\n",
    "ResNet50v2 -> residual_block_v2"
   ]
  },
  {
   "cell_type": "markdown",
   "metadata": {},
   "source": [
    "## Torch Implementation"
   ]
  },
  {
   "cell_type": "markdown",
   "metadata": {
    "vscode": {
     "languageId": "plaintext"
    }
   },
   "source": [
    "In torch, ResNets are actually v1.5. \\\n",
    "**no v2** \\\n",
    "resnext, wide resnet are available."
   ]
  },
  {
   "cell_type": "markdown",
   "metadata": {},
   "source": [
    "In torch, resnet 18, 34, 50, 101, 152 models of modified architecture(ResNetV1.5) are available. \\\n",
    "`Software Style` <br>\n",
    "building block class: <span style=\"color:green\">Bottleneck(for 50,101,152), BasicBlock(for 18,34)</span> \\\n",
    "Main class: **ResNet** \\\n",
    "class ResNet has _make_layer() method that makes groups of blocks(class) \\\n",
    "function that implements class: <span style=\"color:green\">_resnet</span> \\\n",
    "interface function : <span style=\"color:green\">resnet50, resnet101, resnet152</span> \\\n",
    "Usage order: resnet50 -> _resnet -> ResNet -> stack_residual_blocks_v1 -> residual_block_v1\n",
    "\n"
   ]
  },
  {
   "cell_type": "markdown",
   "metadata": {},
   "source": [
    "**`My Simple Implementation(functions only)`** <br>\n",
    "*object => ResNet -> Bottleneck* \\\n",
    "Detail: \\\n",
    "if not class need two functions in place of class: call_fun => resnet -> make_layers -> Bottleneck\n"
   ]
  },
  {
   "cell_type": "markdown",
   "metadata": {},
   "source": []
  }
 ],
 "metadata": {
  "language_info": {
   "name": "python"
  }
 },
 "nbformat": 4,
 "nbformat_minor": 2
}
